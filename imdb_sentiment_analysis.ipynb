{
  "nbformat": 4,
  "nbformat_minor": 0,
  "metadata": {
    "colab": {
      "provenance": [],
      "gpuType": "T4"
    },
    "kernelspec": {
      "name": "python3",
      "display_name": "Python 3"
    },
    "language_info": {
      "name": "python"
    },
    "accelerator": "GPU"
  },
  "cells": [
    {
      "cell_type": "code",
      "execution_count": 1,
      "metadata": {
        "id": "t8nT17KxpKYJ"
      },
      "outputs": [],
      "source": [
        "import pandas as pd\n",
        "import numpy as np\n",
        "import matplotlib.pyplot as plt\n",
        "import re\n",
        "import nltk\n",
        "import textwrap\n",
        "import random\n",
        "from nltk.corpus import stopwords\n",
        "from numpy import array\n",
        "from keras.preprocessing.text import one_hot, Tokenizer\n",
        "from keras.preprocessing.sequence import pad_sequences\n",
        "from keras.models import Sequential\n",
        "from keras.layers import Activation, Dropout, Dense\n",
        "from keras.layers import Flatten, MaxPooling1D, GlobalMaxPooling1D, Bidirectional, Embedding, Conv1D, LSTM\n",
        "from keras.regularizers import l2\n",
        "from keras.callbacks import EarlyStopping\n",
        "from sklearn.model_selection import train_test_split\n",
        "from sklearn.metrics import classification_report"
      ]
    },
    {
      "cell_type": "code",
      "source": [
        "from google.colab import drive\n",
        "drive.mount('/content/drive')"
      ],
      "metadata": {
        "colab": {
          "base_uri": "https://localhost:8080/"
        },
        "id": "188P8kjbw_pa",
        "outputId": "1191e44f-ed74-492e-e298-6ea096a6727d"
      },
      "execution_count": 2,
      "outputs": [
        {
          "output_type": "stream",
          "name": "stdout",
          "text": [
            "Mounted at /content/drive\n"
          ]
        }
      ]
    },
    {
      "cell_type": "code",
      "source": [
        "!mkdir ~/.kaggle"
      ],
      "metadata": {
        "id": "n7hvnOjGzfvK"
      },
      "execution_count": 3,
      "outputs": []
    },
    {
      "cell_type": "code",
      "source": [
        "!cp /content/drive/MyDrive/API-KEYS/kaggle.json ~/.kaggle/"
      ],
      "metadata": {
        "id": "PKmmpNKu0Fln"
      },
      "execution_count": 4,
      "outputs": []
    },
    {
      "cell_type": "code",
      "source": [
        "!chmod 600 ~/.kaggle/kaggle.json"
      ],
      "metadata": {
        "id": "0oh3C0WM0Raa"
      },
      "execution_count": 5,
      "outputs": []
    },
    {
      "cell_type": "markdown",
      "source": [
        "## Importing Dataset"
      ],
      "metadata": {
        "id": "47PCuXDf4QCx"
      }
    },
    {
      "cell_type": "markdown",
      "source": [
        "Dataset from [Kaggle IMDB Reviews](https://www.kaggle.com/datasets/lakshmi25npathi/imdb-dataset-of-50k-movie-reviews?resource=download). Contains 50,000 moview reviews and sentiment labels for each review."
      ],
      "metadata": {
        "id": "p3ZBmn2W1P1F"
      }
    },
    {
      "cell_type": "code",
      "source": [
        "!kaggle datasets download lakshmi25npathi/imdb-dataset-of-50k-movie-reviews"
      ],
      "metadata": {
        "colab": {
          "base_uri": "https://localhost:8080/"
        },
        "id": "hp6eADrO1Gff",
        "outputId": "6a38130d-edc1-4d12-e73b-5d10f911c61c"
      },
      "execution_count": 6,
      "outputs": [
        {
          "output_type": "stream",
          "name": "stdout",
          "text": [
            "Downloading imdb-dataset-of-50k-movie-reviews.zip to /content\n",
            "100% 25.7M/25.7M [00:01<00:00, 22.3MB/s]\n",
            "100% 25.7M/25.7M [00:01<00:00, 14.5MB/s]\n"
          ]
        }
      ]
    },
    {
      "cell_type": "code",
      "source": [
        "!unzip /content/imdb-dataset-of-50k-movie-reviews.zip"
      ],
      "metadata": {
        "colab": {
          "base_uri": "https://localhost:8080/"
        },
        "id": "xaqEYiBQ1mDn",
        "outputId": "f9b696f5-1eac-4de5-93e8-6dca92626b4b"
      },
      "execution_count": 7,
      "outputs": [
        {
          "output_type": "stream",
          "name": "stdout",
          "text": [
            "Archive:  /content/imdb-dataset-of-50k-movie-reviews.zip\n",
            "  inflating: IMDB Dataset.csv        \n"
          ]
        }
      ]
    },
    {
      "cell_type": "code",
      "source": [
        "reviews = pd.read_csv('IMDB Dataset.csv')"
      ],
      "metadata": {
        "id": "rSfk-Lv11zBx"
      },
      "execution_count": 8,
      "outputs": []
    },
    {
      "cell_type": "markdown",
      "source": [
        "Lets see what the reviews currently look like:"
      ],
      "metadata": {
        "id": "1b2myTeH227A"
      }
    },
    {
      "cell_type": "code",
      "source": [
        "random_reviews = reviews.sample(n=3)\n",
        "for index, row in random_reviews.iterrows():\n",
        "    review = row['review']\n",
        "    review_wrapped = textwrap.fill(review, width=80)\n",
        "    print(\"Review:\", review_wrapped)\n",
        "    print(\"Sentiment:\", row['sentiment'])\n",
        "    print(\"-------------------------------------------------------------------------------------\")"
      ],
      "metadata": {
        "colab": {
          "base_uri": "https://localhost:8080/"
        },
        "id": "gIbaH_FJ2CJo",
        "outputId": "5303dc7b-b996-4712-f92b-2fef01b5fb3b"
      },
      "execution_count": 9,
      "outputs": [
        {
          "output_type": "stream",
          "name": "stdout",
          "text": [
            "Review: Having previously seen the abridged print presented by David Shepard, I finally\n",
            "got a hold of a complete--or nearer complete version, which was about 56 minutes\n",
            "compared to the 30-minute version more widely distributed. The Shepard print for\n",
            "Image Entertainment is certainly of superior quality, and the best parts are\n",
            "there, but it's nonetheless good to see the rest of the film and fill in some\n",
            "loose story ends.<br /><br />In the Shepard print, the film ends with Mary\n",
            "stating, \"You see, I've changed my mind--I'm never going home.\" Yet, in the\n",
            "complete version, Mary and Kenneth Driscoll end their relationship soon after\n",
            "that scene  Mary returns home to the country  and Driscoll rekindles his\n",
            "relationship with Vivian. This additional footage develops the character Vivian,\n",
            "who had little relevance in the Shepard version. Moreover, in the complete\n",
            "version, the film begins in the New Jersey countryside with Mary, where she\n",
            "reads and fantasizes about her ideal lover. She's disappointed by the reality of\n",
            "the advances by farm \"chore boy\" Johnny Applebloom (a character completely\n",
            "absent from the Shepard version), but after her affair with Driscoll, she\n",
            "returns to the country to presumably and eventually become a farmer's wife.<br\n",
            "/><br />Regardless of the print, 'A Girl's Folly' is a good little film for\n",
            "1917, made by one of the top directors of the 1910s Maurice Tourneur. In it,\n",
            "Tourneur takes plenty of jabs at his own business, including by playing a\n",
            "caricature of himself--the director of the film-within-the-film. The two leads\n",
            "also give quality performances by early screen-acting standards: Robert Warwick,\n",
            "an actor playing a skirt-chasing star, and Doris Kenyon, as an ingénue aspiring\n",
            "to play an ingénue on the screen.<br /><br />Self-referential films, which made\n",
            "film-making the focus of the films, were nothing new by now. Mack Sennett had\n",
            "already parodied this type of film three years prior with 'Mabel's Dramatic\n",
            "Career'. Several aspects of this one stand out, though. Frances Marion's\n",
            "intertitles are humorous, including illustrations of the actors on a chessboard\n",
            "with a hand directing them--remarkable for 1917. I especially liked the film's\n",
            "final title cards where two observers remark on the film's happy ending: \"Gee\n",
            "but ain't that romantick!\" And, the other replies, \"Romance, nuthin!  That's\n",
            "movin' pictures!\" Fellow female screenwriter Anita Loos made a similar self-\n",
            "referential conclusion to another film from 1917 'Wild and Woolly'. Both writers\n",
            "helped change the role of their professions in the business and art.<br /><br\n",
            "/>Some of the photography by Tourneur and John van den Broek is good, especially\n",
            "concerning the film-making business. The use of mirrors in several scenes is a\n",
            "nice reinforcement of the film's self-reflexivity. Furthermore, the editing is\n",
            "exceptional. The quick crosscutting during the studio scenes is especially\n",
            "salient; it serves to punctuate the hectic pace filmmakers work at, especially\n",
            "back then.\n",
            "Sentiment: positive\n",
            "-------------------------------------------------------------------------------------\n",
            "Review: A young couple Mandy Pullman (Mitch Martin) and Roy Seeley (Matt Birman) are\n",
            "relaxing on a beach in the small town of Galen. They decide to start playing\n",
            "practical jokes on each other. Mandy hides in an old run down cabin, she is\n",
            "attacked and raped by an unknown assailant. Roy tries to help her after hearing\n",
            "her screams but is killed. Dr. Sam Cordell (John Cassavetes) and his daughter\n",
            "Jenny (Erin Flannery) are both new to Galen after the death of Sam's wife. Sam\n",
            "is called into action by Police Chief Hank Walden (John Ireland) when Mandy and\n",
            "Roy are found. He performs the autopsy on Roy and treats Mandy for her horrific\n",
            "injuries. Soon after a curator at the local museum named Carolyn Davis (Denise\n",
            "Furgusson) is also attacked and raped. A local journalist named Laura Kincaid\n",
            "(Kerrie Keane) reports the events and suggests to Sam that a similar string of\n",
            "rapes and murders occurred in the town 30 years earlier. More rapes and murders\n",
            "occur. Meanwhile Jenny's boyfriend Tim Galen (Duncan MacIntosh) has been having\n",
            "strange dreams and nightmares and is convinced that he has something to do with\n",
            "the horrific acts. Tim's story and digging into the towns past makes Sam become\n",
            "convinced of the existence of a creature known as an Incubus - a shape-shifting\n",
            "demonic entity that exists only to reproduce! Directed by John Hough this is one\n",
            "seriously dull horror film. The script by George Franklin based on the novel by\n",
            "Ray Russell is slow to say the least. Nothing interesting or exciting happens\n",
            "and it finishes with one of the most boring none event of a twist ending I've\n",
            "ever seen and frustratingly it just finishes suddenly. As the story plods along\n",
            "at a snails pace there are a few rapes, but none are shown on screen. There is\n",
            "only one gore scene in the entire film too. The monster itself is only shown at\n",
            "the very end and has all of three short scenes. Everything about this film\n",
            "production-wise is very static and flat, the film has no energy or pace. The\n",
            "acting is dull and you don't feel or care for anyone. Check out the scene in the\n",
            "autopsy room where you can clearly see the boom mike at the top of the screen on\n",
            "several occasions. The type of rubbish horror film making that you'll forget\n",
            "within a day. A real waste of time, don't bother.\n",
            "Sentiment: negative\n",
            "-------------------------------------------------------------------------------------\n",
            "Review: From watching the trailer, the movie looked pretty interesting. The production\n",
            "of the movie is also pretty good--it looks like they had a good budget and\n",
            "doesn't look like a cheaply made movie. The acting ranges from good (Joe Morton\n",
            "as Professor Simon) to OK (Kelly Overton as Eve) to bad (James Haven as Don).<br\n",
            "/><br />The actual content and plot of the movie is weak. The movie starts out\n",
            "like it could become interesting and ends with a poorly executed,\n",
            "disappointingly boring, twist. Watching the first 10 minutes and last 5 minutes\n",
            "of the movie would have made this movie OK but everything in between makes this\n",
            "an absolutely boring movie to watch. It's as though they made a short movie then\n",
            "tried to force it to be over an hour long by stuffing the middle with an hour of\n",
            "filler material.<br /><br />If you want to waste a good hour and half of your\n",
            "life, watch this movie. Otherwise, stay away from this extremely boring movie.\n",
            "Sentiment: negative\n",
            "-------------------------------------------------------------------------------------\n"
          ]
        }
      ]
    },
    {
      "cell_type": "markdown",
      "source": [
        "The reviews contain information that is irrelivant to the sentiment (commas, periods, HTML tags, etc.) and the sentiments are in an unusable form (string).\n",
        "\n"
      ],
      "metadata": {
        "id": "XnyYMLe13xw8"
      }
    },
    {
      "cell_type": "markdown",
      "source": [
        "## Preprocessing"
      ],
      "metadata": {
        "id": "k5k5Qd5x4XuT"
      }
    },
    {
      "cell_type": "markdown",
      "source": [
        "For our model to perform optimally we want tokenized reviews of a standard length that only contain words relevant to the sentiment, and sentiments in binary."
      ],
      "metadata": {
        "id": "_TOqNwDdCcsT"
      }
    },
    {
      "cell_type": "code",
      "source": [
        "nltk.download('stopwords')\n",
        "\n",
        "def preprocess(review):\n",
        "  p_review = review.lower() # make all characters lowercase\n",
        "  p_review = re.sub(r'<[^>]+>', ' ', p_review) # remove HTML tags\n",
        "  p_review = re.sub('[^a-z]', ' ', p_review) # remove punctuation and numbers\n",
        "  p_review = re.sub(r\"\\s+[a-zA-Z]\\s+\", ' ', p_review) # remove single characters\n",
        "  p_review = re.sub(r\"\\s+\", ' ', p_review) # remove multiple spaces\n",
        "  pattern = re.compile(pattern = re.compile(r'\\b(' + r'|'.join(stopwords.words('english')) + r')\\b\\s*'))\n",
        "  p_review = pattern.sub('', p_review) # remove stopwords (e.g the, is, are, etc.)\n",
        "  return p_review"
      ],
      "metadata": {
        "colab": {
          "base_uri": "https://localhost:8080/"
        },
        "id": "4rGEHO8A2Jjk",
        "outputId": "c25665ad-c96f-44cd-941d-5b4c276cf26c"
      },
      "execution_count": 10,
      "outputs": [
        {
          "output_type": "stream",
          "name": "stderr",
          "text": [
            "[nltk_data] Downloading package stopwords to /root/nltk_data...\n",
            "[nltk_data]   Unzipping corpora/stopwords.zip.\n"
          ]
        }
      ]
    },
    {
      "cell_type": "code",
      "source": [
        "X = []\n",
        "for review in list(reviews['review']):\n",
        "  X.append(preprocess(review))\n",
        "\n",
        "y = reviews['sentiment']\n",
        "y = np.array(list(map(lambda x: 1 if x==\"positive\" else 0, y))) # converting sentiments to binary"
      ],
      "metadata": {
        "id": "Uz7AMStL96-o"
      },
      "execution_count": 11,
      "outputs": []
    },
    {
      "cell_type": "markdown",
      "source": [
        "Let's look at the reviews after preprocessing:"
      ],
      "metadata": {
        "id": "-ijBawBq_QBg"
      }
    },
    {
      "cell_type": "code",
      "source": [
        "random_reviews = random.sample(X, 3)\n",
        "for review in random_reviews:\n",
        "    review_wrapped = textwrap.fill(review, width=80)\n",
        "    print(\"Review:\", review_wrapped)\n",
        "    print(\"-------------------------------------------------------------------------------------\")"
      ],
      "metadata": {
        "colab": {
          "base_uri": "https://localhost:8080/"
        },
        "id": "flC7pDDy-yj_",
        "outputId": "10f81e8b-a31c-4b24-8082-c6e4f74d8905"
      },
      "execution_count": 12,
      "outputs": [
        {
          "output_type": "stream",
          "name": "stdout",
          "text": [
            "Review: thunder alley finds fabian banned nascar tracks causing death another driver\n",
            "stanley adams might want put team racers drivers around desperate employment\n",
            "fabian hooks auto stunt show owner jan murray paying peanuts trying capitalize\n",
            "fabian bad rep got take annette funicello murray daughter provides another\n",
            "reason stick around rest film fabian struggle get back nascar circuit time\n",
            "juggling annette current girl friend diane mcbain personally would taken mcbain\n",
            "annette thunder alley helped location shooting southern nascar tracks good film\n",
            "footage nascar racing helped rather silly story delves real reason fabian\n",
            "problems rather unrealistic recovery still fans nascar might go\n",
            "-------------------------------------------------------------------------------------\n",
            "Review: real sudsy soap opera spencer tracy tackles role illiterate age marries woman\n",
            "teaches ambition drive leads success success happiness n eer well son faltering\n",
            "marriage leads disaster tragedy tracy buys railroad succeeds subjected\n",
            "disastrous rail strike death workers film appeared beginning uneven rejuvenated\n",
            "thanks excellent use flashbacks double separate suicide know riches buy\n",
            "happiness little far fetched nonetheless riveting performances tracy colleen\n",
            "moore ms vinson nd wife also quite effective\n",
            "-------------------------------------------------------------------------------------\n",
            "Review: flick k life fast lane easily one least entertaining movies seen long time think\n",
            "made mind sick twisted jaded women represent population states characters one\n",
            "dimensional even lead stabs boyfriend head scissors cheap laugh attempted\n",
            "unsucceeds sticking cork boyfriend skull stop bleeding oh clever patrick dempsey\n",
            "whose movies almost always class act sarcasm plays devil changes life seen life\n",
            "series vignettes begin emotion laughs story reason give jeffrey jones ok priest\n",
            "bit style albiet zero substance camerawork otherwise one worst films seen grade\n",
            "think even drugged junkie would laugh toilet seat falling would dislike film\n",
            "stress enough much stay away\n",
            "-------------------------------------------------------------------------------------\n"
          ]
        }
      ]
    },
    {
      "cell_type": "markdown",
      "source": [
        "Now the reviews only contain information relevant to their sentiment."
      ],
      "metadata": {
        "id": "UcHwE7iDBQs4"
      }
    },
    {
      "cell_type": "markdown",
      "source": [
        "Let's tokenize the reviews"
      ],
      "metadata": {
        "id": "YGx-AmDQErQD"
      }
    },
    {
      "cell_type": "code",
      "source": [
        "tokenizer = Tokenizer()\n",
        "tokenizer.fit_on_texts(X)\n",
        "X_tokenized = tokenizer.texts_to_sequences(X)"
      ],
      "metadata": {
        "id": "ksrGUWJMEuux"
      },
      "execution_count": 13,
      "outputs": []
    },
    {
      "cell_type": "markdown",
      "source": [
        "Now each word in the reviews is replaced with it's index in the vocabulary."
      ],
      "metadata": {
        "id": "2p4Qfm7ZGV65"
      }
    },
    {
      "cell_type": "markdown",
      "source": [
        "Let's standardize the review sizes"
      ],
      "metadata": {
        "id": "Ha5JctuhCUnK"
      }
    },
    {
      "cell_type": "code",
      "source": [
        "# check distribution of lengths\n",
        "review_lengths = [len(review.split()) for review in X]\n",
        "\n",
        "plt.hist(review_lengths, bins=20, color='skyblue', edgecolor='black')\n",
        "plt.title('Distribution of Review Lengths')\n",
        "plt.xlabel('Review Length')\n",
        "plt.ylabel('Frequency')\n",
        "plt.show()"
      ],
      "metadata": {
        "colab": {
          "base_uri": "https://localhost:8080/",
          "height": 472
        },
        "id": "cphuQKmDC617",
        "outputId": "0c00b275-5362-4069-cda8-f867a07eb90c"
      },
      "execution_count": 14,
      "outputs": [
        {
          "output_type": "display_data",
          "data": {
            "text/plain": [
              "<Figure size 640x480 with 1 Axes>"
            ],
            "image/png": "[encoded data removed]"
          },
          "metadata": {}
        }
      ]
    },
    {
      "cell_type": "markdown",
      "source": [
        "Most reviews are under 200 words so that seems like a good standard length"
      ],
      "metadata": {
        "id": "kd-5BkpuDbFM"
      }
    },
    {
      "cell_type": "code",
      "source": [
        "MAXLEN = 200\n",
        "X = pad_sequences(X_tokenized, padding='post', maxlen=MAXLEN)"
      ],
      "metadata": {
        "id": "6CvnO5HsDrru"
      },
      "execution_count": 15,
      "outputs": []
    },
    {
      "cell_type": "markdown",
      "source": [
        "Let's also split the data into train and test sets"
      ],
      "metadata": {
        "id": "SGZ7-DwmBjfL"
      }
    },
    {
      "cell_type": "code",
      "source": [
        "X_train, X_test, y_train, y_test = train_test_split(X, y, test_size=0.20, random_state=42)"
      ],
      "metadata": {
        "id": "-I4SBGsUAA1g"
      },
      "execution_count": 16,
      "outputs": []
    },
    {
      "cell_type": "markdown",
      "source": [
        "##Embedding"
      ],
      "metadata": {
        "id": "vJIP9wKGBuu7"
      }
    },
    {
      "cell_type": "markdown",
      "source": [
        "Now that we have our reviews in a usable format we want to embed the words into vectors of a standard size so that we can feed the resulting feature matrix to the model as input.\n",
        "\n",
        "We will use GloVe pretrained embeddings from [the Stanford NLP Group](https://nlp.stanford.edu/projects/glove/)"
      ],
      "metadata": {
        "id": "8EhBOxCpHdsF"
      }
    },
    {
      "cell_type": "code",
      "source": [
        "!wget https://nlp.stanford.edu/data/glove.6B.zip\n",
        "!unzip glove.6B.zip"
      ],
      "metadata": {
        "id": "bbBf55MLBt8H",
        "colab": {
          "base_uri": "https://localhost:8080/"
        },
        "outputId": "4b57a96b-a2e5-40ab-c9b1-3560d0277492"
      },
      "execution_count": 17,
      "outputs": [
        {
          "output_type": "stream",
          "name": "stdout",
          "text": [
            "--2024-04-08 03:47:00--  https://nlp.stanford.edu/data/glove.6B.zip\n",
            "Resolving nlp.stanford.edu (nlp.stanford.edu)... 171.64.67.140\n",
            "Connecting to nlp.stanford.edu (nlp.stanford.edu)|171.64.67.140|:443... connected.\n",
            "HTTP request sent, awaiting response... 301 Moved Permanently\n",
            "Location: https://downloads.cs.stanford.edu/nlp/data/glove.6B.zip [following]\n",
            "--2024-04-08 03:47:00--  https://downloads.cs.stanford.edu/nlp/data/glove.6B.zip\n",
            "Resolving downloads.cs.stanford.edu (downloads.cs.stanford.edu)... 171.64.64.22\n",
            "Connecting to downloads.cs.stanford.edu (downloads.cs.stanford.edu)|171.64.64.22|:443... connected.\n",
            "HTTP request sent, awaiting response... 200 OK\n",
            "Length: 862182613 (822M) [application/zip]\n",
            "Saving to: ‘glove.6B.zip’\n",
            "\n",
            "glove.6B.zip        100%[===================>] 822.24M  5.14MB/s    in 2m 41s  \n",
            "\n",
            "2024-04-08 03:49:42 (5.11 MB/s) - ‘glove.6B.zip’ saved [862182613/862182613]\n",
            "\n",
            "Archive:  glove.6B.zip\n",
            "  inflating: glove.6B.50d.txt        \n",
            "  inflating: glove.6B.100d.txt       \n",
            "  inflating: glove.6B.200d.txt       \n",
            "  inflating: glove.6B.300d.txt       \n"
          ]
        }
      ]
    },
    {
      "cell_type": "markdown",
      "source": [
        "We'll use the 200 dimension vector GloVe vectors to create an embedding dictionary. First let's look at how the embeddings are formatted in the text file."
      ],
      "metadata": {
        "id": "5_KOy9_32-Cl"
      }
    },
    {
      "cell_type": "code",
      "source": [
        "with open('/content/glove.6B.200d.txt', 'r') as file:\n",
        "            for _ in range(10):\n",
        "                line = file.readline()\n",
        "                if not line:\n",
        "                    break\n",
        "                print(line, end='')"
      ],
      "metadata": {
        "colab": {
          "base_uri": "https://localhost:8080/"
        },
        "id": "_v0wtMh64YLB",
        "outputId": "8588978d-127b-4913-d217-bc1f64d5cfa4"
      },
      "execution_count": 18,
      "outputs": [
        {
          "output_type": "stream",
          "name": "stdout",
          "text": [
            "the -0.071549 0.093459 0.023738 -0.090339 0.056123 0.32547 -0.39796 -0.092139 0.061181 -0.1895 0.13061 0.14349 0.011479 0.38158 0.5403 -0.14088 0.24315 0.23036 -0.55339 0.048154 0.45662 3.2338 0.020199 0.049019 -0.014132 0.076017 -0.11527 0.2006 -0.077657 0.24328 0.16368 -0.34118 -0.06607 0.10152 0.038232 -0.17668 -0.88153 -0.33895 -0.035481 -0.55095 -0.016899 -0.43982 0.039004 0.40447 -0.2588 0.64594 0.26641 0.28009 -0.024625 0.63302 -0.317 0.10271 0.30886 0.097792 -0.38227 0.086552 0.047075 0.23511 -0.32127 -0.28538 0.1667 -0.0049707 -0.62714 -0.24904 0.29713 0.14379 -0.12325 -0.058178 -0.001029 -0.082126 0.36935 -0.00058442 0.34286 0.28426 -0.068599 0.65747 -0.029087 0.16184 0.073672 -0.30343 0.095733 -0.5286 -0.22898 0.064079 0.015218 0.34921 -0.4396 -0.43983 0.77515 -0.87767 -0.087504 0.39598 0.62362 -0.26211 -0.30539 -0.022964 0.30567 0.06766 0.15383 -0.11211 -0.09154 0.082562 0.16897 -0.032952 -0.28775 -0.2232 -0.090426 1.2407 -0.18244 -0.0075219 -0.041388 -0.011083 0.078186 0.38511 0.23334 0.14414 -0.0009107 -0.26388 -0.20481 0.10099 0.14076 0.28834 -0.045429 0.37247 0.13645 -0.67457 0.22786 0.12599 0.029091 0.030428 -0.13028 0.19408 0.49014 -0.39121 -0.075952 0.074731 0.18902 -0.16922 -0.26019 -0.039771 -0.24153 0.10875 0.30434 0.036009 1.4264 0.12759 -0.073811 -0.20418 0.0080016 0.15381 0.20223 0.28274 0.096206 -0.33634 0.50983 0.32625 -0.26535 0.374 -0.30388 -0.40033 -0.04291 -0.067897 -0.29332 0.10978 -0.045365 0.23222 -0.31134 -0.28983 -0.66687 0.53097 0.19461 0.3667 0.26185 -0.65187 0.10266 0.11363 -0.12953 -0.68246 -0.18751 0.1476 1.0765 -0.22908 -0.0093435 -0.20651 -0.35225 -0.2672 -0.0034307 0.25906 0.21759 0.66158 0.1218 0.19957 -0.20303 0.34474 -0.24328 0.13139 -0.0088767 0.33617 0.030591 0.25577\n",
            ", 0.17651 0.29208 -0.0020768 -0.37523 0.0049139 0.23979 -0.28893 -0.014643 -0.10993 0.15592 0.20627 0.47675 0.099907 -0.14058 0.21114 0.12126 -0.31831 -0.089433 -0.090553 -0.31962 0.21319 2.4844 -0.077521 -0.084279 0.20186 0.26084 -0.40411 -0.19127 0.24715 0.22394 -0.063437 0.20379 -0.18463 -0.088413 0.024169 -0.28769 -0.61246 -0.12683 -0.088273 0.18331 -0.53161 -0.1997 -0.26703 0.15312 -0.015239 -0.082844 0.47856 -0.29612 0.11168 -0.02579 -0.011697 0.19923 -0.14267 0.6625 -0.051739 -0.16938 -0.15635 0.092806 0.32548 0.11724 0.28788 -0.060651 -0.14153 0.16668 0.26861 -0.031001 -0.39665 0.35304 0.2385 0.12388 0.45698 -0.12559 -0.12804 0.37449 0.2446 0.23073 0.20808 0.051258 -0.21816 -0.036409 -0.0388 -0.042487 -0.30779 -0.025449 0.22532 0.045538 -0.48934 -0.13988 0.17394 -0.46137 -0.26555 0.15473 0.063816 -0.17022 -0.15762 0.075765 0.12151 -0.4934 -0.10909 0.034487 0.29947 0.01869 -0.16534 0.016679 0.16341 -0.27418 0.077797 1.4023 0.025275 0.094725 -0.040735 -0.10642 0.023364 0.079143 -0.16615 -0.23013 -0.14071 0.40159 -0.34951 0.018545 0.22434 0.76922 0.24722 0.14936 0.42368 -0.72059 -0.038541 0.15522 0.33596 -0.43077 -0.026925 -0.37733 0.24271 -0.46495 0.45783 0.23693 0.079361 -0.32244 -0.42434 -0.11138 0.55426 0.085153 -0.020581 -0.046386 1.2467 0.13177 0.067092 -0.5778 0.013586 -0.071274 0.017311 0.089781 0.19857 -0.032205 0.64843 -0.23797 -0.19676 0.20203 0.21074 -0.50347 0.026823 -0.045444 -0.22642 -0.19977 -0.12138 0.16941 0.061998 0.42631 -0.088383 0.45756 0.077774 0.061342 0.4571 -0.17787 -0.14597 0.32654 0.002443 -0.11886 0.10081 -0.020011 1.0366 -0.39814 -0.6818 0.23685 -0.20396 -0.17668 -0.31385 0.14834 -0.052187 0.0613 -0.32582 0.19153 -0.15469 -0.14679 0.046971 0.032325 -0.22006 -0.20774 -0.23189 -0.10814\n",
            ". 0.12289 0.58037 -0.069635 -0.50288 0.10503 0.39945 -0.38635 -0.084279 0.12219 0.080312 0.32337 0.47579 -0.038375 -0.00709 0.41524 0.32121 -0.21185 0.36144 -0.055623 -0.030512 0.42854 2.8547 -0.14623 -0.17557 0.31197 -0.13118 0.033298 0.13093 0.089889 -0.12417 0.0023396 -0.068954 -0.10754 -0.11551 -0.31052 -0.12097 -0.46691 -0.0836 -0.037664 -0.071779 -0.11899 -0.20381 -0.12424 0.46339 -0.19828 -0.0080365 0.53718 0.031739 0.34331 0.0079704 0.0048744 0.030592 -0.17615 0.82342 -0.13793 -0.10075 -0.12686 0.074735 -0.088719 -0.042719 0.076624 0.089263 0.064445 -0.031958 0.15254 -0.10384 0.076604 0.34099 0.24331 -0.10452 0.40714 -0.1826 -0.040667 0.50878 0.08076 0.22759 -0.042162 -0.18171 -0.095025 0.030334 0.088202 -3.9843e-06 -0.0039877 0.15724 0.33167 0.08471 -0.25919 -0.41384 0.2992 -0.54255 0.032129 0.1003 0.44202 0.044682 -0.090681 -0.10481 -0.1186 -0.31972 -0.2079 -0.040203 -0.022988 0.22824 0.0055238 0.12568 -0.1464 -0.14904 -0.11561 1.0517 -0.19498 0.083958 0.044812 -0.12965 -0.093468 0.21237 -0.088332 -0.1868 0.26521 0.13097 -0.048102 -0.22467 0.28412 0.34907 0.34833 0.017877 0.30504 -0.83453 0.048856 -0.1933 0.20764 -0.49701 -0.18747 -0.076801 0.15558 -0.46844 0.40944 0.21386 0.082392 -0.26491 -0.21224 -0.13293 0.14738 -0.14192 0.18994 -0.15587 1.0738 0.40789 -0.27452 -0.18431 0.00068679 -0.087115 0.19672 0.40918 -0.35462 -0.06326 0.4492 -0.060568 -0.041636 0.20531 0.017025 -0.58448 0.075441 0.082116 -0.46008 0.012393 -0.02531 0.14177 -0.092192 0.34505 -0.52136 0.57304 0.011973 0.033196 0.29672 -0.27899 0.19979 0.25666 0.082079 -0.078436 0.093719 0.24202 1.3495 -0.30434 -0.30936 0.42047 -0.079068 -0.14819 -0.089404 0.0668 0.22405 0.27226 -0.035236 0.17688 -0.0536 0.0070031 -0.033006 -0.080021 -0.24451 -0.039174 -0.16236 -0.096652\n",
            "of 0.052924 0.25427 0.31353 -0.35613 0.029629 0.51034 -0.10716 0.15195 0.057698 0.06149 0.06116 0.39911 -0.00029018 0.31978 0.43257 -0.14708 0.054842 0.27079 -0.14051 -0.30101 0.16313 3.0013 0.22231 -0.14279 0.083705 0.089866 -0.52706 -0.089661 0.27311 0.31413 -0.04081 0.060557 -0.042656 0.24178 -0.29187 0.22575 -0.6298 -0.14641 -0.22429 -0.056621 -0.17776 -0.64269 0.51626 0.22305 0.12124 0.48074 0.41743 0.54805 0.40955 0.42407 0.049906 -0.32574 0.46298 0.19245 0.28143 0.2966 0.063593 -0.11906 -0.15016 -0.04984 0.40675 0.010675 -0.69127 0.048729 0.26391 0.30961 -0.11921 0.25548 -0.28219 -0.037413 0.36461 0.027129 0.20786 0.53325 0.50148 0.72381 0.065292 -0.078716 -0.10537 -0.08081 -0.2096 0.040902 -0.88101 0.24715 0.16146 0.10361 0.19705 -0.27365 0.89902 -0.29981 0.036165 0.041238 0.60105 -0.18911 -0.43887 -0.14097 0.44073 -0.19999 0.28834 -0.25458 -0.10985 -0.0027379 0.091735 0.17021 -0.16305 -0.57439 0.37063 1.7262 -0.24656 0.51681 -0.15355 -0.15553 0.019783 0.1803 0.38178 0.094443 -0.55158 -0.20242 -0.4386 -0.42108 0.27525 0.58977 0.026655 0.16401 0.13893 -0.68692 0.51071 0.29278 0.022041 -0.18156 -0.64905 0.16923 -0.01059 0.21785 -0.27242 0.27967 0.1395 -0.70559 -0.26034 -0.44017 0.15303 0.19693 -0.096838 0.14827 1.1294 -0.31267 0.0099916 -0.48623 0.080584 0.35608 -0.19925 0.19306 -0.2004 -0.44194 0.75766 0.24487 -0.18903 0.26653 -0.21339 -0.54083 0.40532 -0.02796 -0.13398 -0.11086 0.059506 0.24052 -0.59739 -0.0024069 -0.18593 1.042 -0.12969 0.20813 0.33305 -0.1278 0.085662 -0.076422 0.31407 -0.23784 -0.054838 0.011369 0.845 -0.34165 0.093983 0.082445 -0.27777 -0.44226 -0.063078 0.37274 0.054468 0.24197 -0.040886 0.3894 -0.10509 0.23372 0.096027 -0.30324 0.24488 -0.086254 -0.41917 0.46496\n",
            "to 0.57346 0.5417 -0.23477 -0.3624 0.4037 0.11386 -0.44933 -0.30991 -0.0053411 0.58426 -0.025956 0.49393 -0.037209 -0.28428 0.097696 -0.48907 0.026027 0.37649 0.057788 -0.46807 0.081288 3.2825 -0.6369 0.37956 0.0038167 0.093607 -0.12855 0.1738 0.10522 0.28648 0.21089 -0.47076 0.027733 -0.19803 0.076328 -0.84629 -0.79708 -0.38743 -0.030422 -0.26849 0.48585 0.12895 0.38354 0.38722 -0.38524 0.19075 0.48998 0.13278 0.010792 0.2677 0.17812 -0.11433 -0.33494 0.87306 0.75875 -0.30378 -0.15626 0.0012085 0.23322 0.27953 -0.18494 -0.14146 -0.18969 -0.038386 0.35874 0.065513 0.060565 0.66339 -0.083252 0.065163 0.51761 0.16171 0.46011 0.16388 -0.12399 0.31122 -0.15412 -0.10917 -0.42551 0.11418 0.25137 -0.056158 -0.25927 0.28163 -0.018094 0.16065 -0.48506 -0.98903 0.25022 -0.16736 0.41474 0.17701 0.42407 0.11088 -0.1836 -0.1241 -0.3478 0.099078 -0.22381 -0.11245 -0.21156 0.0030706 -0.23607 0.027261 0.3643 0.039922 -0.18369 1.2266 -0.7764 -0.66225 0.015724 -0.14969 0.084649 0.26814 -0.16765 -0.31942 0.28494 -0.07 0.01201 -0.12219 0.5631 -0.32 0.50109 -0.10209 0.46575 -0.71542 0.17293 0.58259 0.078384 -0.033844 -0.25129 0.36503 0.031578 -0.65778 0.05475 0.87189 0.12455 -0.45877 -0.26965 -0.46779 -0.0028578 0.1781 0.63969 0.13995 0.97596 0.11836 -0.63904 -0.15416 0.065262 0.24329 0.66476 0.25069 -0.10252 -0.32839 -0.085559 -0.012774 -0.19431 0.56139 -0.35733 -0.20344 -0.12413 -0.34431 -0.23296 -0.21187 0.085387 0.070063 -0.19803 -0.026023 -0.39037 0.80002 0.40577 -0.079863 0.35263 -0.34043 0.39676 0.22862 -0.35028 -0.47344 0.59742 -0.11657 1.0552 -0.4157 -0.080552 -0.056571 -0.16622 0.19274 -0.095175 -0.20781 0.1562 0.050231 -0.27915 0.43742 -0.31237 0.13194 -0.33278 0.18877 -0.23422 0.54418 -0.23069 0.34947\n",
            "and 0.20327 0.47348 0.050877 0.002103 0.060547 0.33066 0.048486 0.021504 -0.53631 0.21312 0.19983 0.51408 0.00070422 0.094641 0.068724 0.27424 -0.20493 0.23268 0.3249 -0.19444 0.64693 2.8342 0.14004 -0.26868 0.27325 0.015312 -0.27975 -0.26423 0.14183 -0.026064 0.11349 0.25039 -0.24972 -0.16882 -0.31039 -0.44458 -0.34789 -0.20181 -0.013405 0.23635 0.17741 -0.10535 -0.20716 0.37856 0.10507 -0.3097 0.46782 -0.50021 0.26643 0.51564 0.054247 0.50546 -0.24959 0.54021 0.17268 -0.03865 0.02373 0.24111 0.1721 0.078734 0.31275 0.187 -0.45933 0.55853 0.22511 0.16761 -0.045662 0.55918 -0.24065 -0.24904 0.38718 -0.21586 -0.10332 0.24157 -0.1844 0.31295 -0.16315 -0.21771 0.18137 -0.045089 0.068367 -0.17317 -0.79639 0.24492 0.12389 0.11703 -0.088345 -0.37042 0.43759 -0.47564 -0.095386 -0.15975 0.1838 0.25664 -0.41276 0.047558 0.16437 -0.26353 -0.27328 -0.089788 0.31598 -0.11246 -0.18703 0.20422 0.068352 0.011667 0.13657 1.1524 0.024065 -0.11591 -0.18142 -0.36441 -0.010051 0.19956 0.2685 -0.095357 -0.11906 0.32378 -0.19527 -0.368 -0.0038172 0.396 0.24194 0.31296 0.24128 -0.7612 0.071389 0.42396 0.26369 -0.091366 -0.13438 -0.17673 0.013168 -0.624 0.17744 0.38957 -0.037665 -0.12586 -0.14862 -0.29635 0.40572 -0.071653 -0.11642 -0.16958 1.0982 0.39618 -0.16874 -0.6036 0.41394 0.28977 0.11419 -0.047337 -0.0033519 -0.42435 0.61701 -0.01048 -0.28841 0.42077 -0.075991 -0.38083 0.57339 0.18044 -0.11781 0.35162 0.1622 0.55483 0.14 0.2321 -0.20205 0.60227 -0.15379 0.21907 0.28405 0.011906 0.10622 0.5067 -0.43201 -0.40887 -0.17819 0.22042 1.0775 -0.39381 -0.35828 0.36302 0.14872 0.035555 -0.030339 -0.11273 0.023382 0.15904 -0.14389 -0.11754 -0.63655 -0.12197 0.043809 0.14716 0.07375 -0.21358 -0.62249 0.14386\n",
            "in -0.10272 0.3041 -0.13577 -0.27979 -0.40926 -0.26553 0.10492 -0.044101 0.062731 -0.0416 0.35588 0.40757 -0.14295 -0.036534 0.42512 0.014823 0.00030443 0.2915 -0.20416 -0.10039 0.30767 3.1815 0.045614 0.094457 0.25545 0.27528 -0.29939 0.045123 0.44681 0.015012 -0.10785 -0.38988 -0.20562 0.26306 -0.018163 -0.14244 -0.5661 -0.12168 0.28749 -0.30581 -0.4482 -0.15317 -0.19445 0.35335 -0.015209 0.23061 0.13566 -0.26385 0.066084 0.16075 0.12168 0.72758 0.32453 0.82149 -0.13693 -0.2006 -0.097958 -0.15446 -0.38003 0.15699 0.041498 -0.22766 -0.40033 0.25514 0.13092 0.24261 -0.48639 -0.27622 -0.21293 -0.11668 0.014564 0.21658 0.19006 0.40863 0.48486 0.4037 0.20366 -0.096563 0.19522 -0.16715 -0.31923 -0.35499 -0.34792 0.59981 -0.046506 -0.27371 0.013404 -0.36558 0.69315 -0.2407 -0.0137 0.22596 0.21897 0.010207 -0.23484 -0.36304 0.1029 -0.4278 0.28864 -0.43645 -0.083785 0.1183 0.20385 0.40474 -0.079155 -0.12931 0.077845 1.2303 -0.55546 0.1562 0.0063933 -0.46652 0.013173 0.52646 -0.23626 0.013833 0.10002 0.090947 -0.25318 -0.64795 0.063422 0.74095 0.2902 0.22642 0.33915 -0.80488 0.21889 0.19193 0.05539 -0.39976 0.0094308 0.26978 0.63166 -0.41242 0.20485 0.33116 0.11562 -0.45671 -0.48083 0.46172 0.27319 0.243 0.12328 0.2307 1.2257 0.037079 0.23077 -0.31092 -0.099628 0.41876 -0.093834 -0.24741 -0.49863 -0.74542 0.16518 0.069734 0.066691 -0.092037 0.21124 -0.28236 0.20825 -0.17163 -0.32025 -0.27537 -0.30774 0.18184 -0.02626 -0.062733 -0.43666 0.57954 -0.32348 -0.13457 0.38565 -0.30198 0.26197 -0.10034 -0.146 -0.3417 0.16671 -0.23599 1.2467 -0.0059839 -0.56967 0.5264 -0.21024 -0.29861 -0.293 0.15889 0.17254 -0.0023984 0.071749 0.053166 -0.23429 -0.084927 0.15539 0.4182 -0.15216 0.36951 0.19039 -0.12266\n",
            "a 0.24169 -0.34534 -0.22307 -1.2907 0.25285 -0.55128 -0.080336 -0.0081767 0.31136 -0.45101 0.24661 0.36441 0.94336 -0.03542 0.78048 -0.39765 0.31125 -0.17743 -0.41989 -0.37815 0.6723 3.1716 0.032496 -0.03164 0.58068 -0.44458 -0.055612 0.18052 0.28572 0.09587 0.21437 0.049731 0.1872 0.11914 0.027408 -0.80608 -0.30835 -0.89737 -0.19772 0.026741 -0.38765 0.11659 -0.2011 0.20101 -0.079133 -0.050954 0.0060189 0.3347 -0.21118 0.074042 -0.28141 -0.059615 -0.35296 0.64748 0.053908 -0.31376 -0.36622 -0.27755 0.022676 0.048811 0.14312 -0.1858 -0.56964 -0.54119 0.18616 0.18854 0.27521 -0.17835 -0.37438 0.12109 0.001861 -0.0092127 0.10186 0.098081 -0.37245 0.66415 0.057366 -0.43845 -0.40525 -0.55959 -0.11343 -0.54987 -0.26321 -0.28471 0.14411 0.1036 -0.32198 -0.2153 0.98668 -0.41937 0.3119 0.3338 0.16018 0.33137 -0.025494 -0.03788 -0.12048 -0.12175 0.094766 0.26158 0.029931 -0.29625 0.43401 -0.036536 -0.42852 -0.39638 -0.24973 1.1018 -0.22812 0.24324 0.083857 -0.48881 -0.21316 0.040249 -0.40516 -0.12411 -0.19728 -0.73696 -0.44582 -0.44992 -0.073707 -0.16454 0.16011 -0.41952 0.41417 -0.57277 0.51367 0.081118 0.029288 0.35309 -0.10803 0.13702 0.38828 -0.28813 0.68203 0.17412 -0.08854 -0.29785 -0.28455 0.1357 0.15232 0.22037 0.68812 -0.131 1.8197 -0.45153 0.39553 -0.60817 0.33698 0.1109 -0.28476 0.30461 -0.21606 -0.058111 0.44172 -0.24231 -0.12758 -0.048793 -0.15495 -0.85491 0.092912 -0.060809 0.029073 -0.38735 -0.070853 -0.65975 -0.38157 0.5017 -0.7356 0.41521 0.21328 -0.33779 0.66902 0.42486 -0.12148 -0.010626 0.12745 -0.13561 0.23423 0.3511 1.2841 0.12982 0.21357 0.32857 0.16567 -0.21458 -0.44275 0.3285 0.18001 0.064865 -0.3588 -0.014226 0.31125 -0.22049 0.032829 0.38525 -0.10512 0.27801 -0.10171 -0.071521\n",
            "\" 0.0010318 0.31201 -0.59768 -0.12583 -0.27524 0.29145 -0.30431 0.037122 0.94468 0.088085 -0.096273 0.40542 -0.6524 0.37716 0.53001 -0.30819 -0.27478 0.81041 0.53635 0.08759 0.35288 2.8857 -0.12505 -0.035968 0.1355 -0.29932 0.56154 -0.59429 -0.34991 0.68559 -0.11537 0.088894 -0.29829 -0.20768 0.6911 0.068548 -0.50814 -0.97722 0.035782 -0.54053 -0.16178 0.47542 -0.71652 0.31939 -0.049291 0.32565 0.5551 -0.42967 1.0137 0.30304 0.44503 0.46987 0.074292 -0.35762 -0.13736 -0.16066 -0.28606 0.00012358 -0.043422 -0.36702 0.40895 -0.40467 -0.51635 0.28044 -0.27625 -0.20352 0.084837 0.078145 0.32895 0.20482 0.17551 -0.2309 -0.066328 0.46467 -0.38932 -0.23018 -0.098122 -0.12376 -0.028503 0.040342 0.71158 -0.27804 0.10137 0.51113 -0.42648 -0.12535 -0.39139 0.29972 0.1868 -0.58113 0.38192 0.1654 0.33566 -0.47696 -0.24135 -0.33114 0.34815 -0.087061 -0.16406 -0.1023 0.53301 0.45604 0.33281 -0.33851 0.30248 -0.15048 -0.33033 0.6668 -0.28609 1.0374 -0.70909 -0.084268 0.47584 -0.16125 0.19906 0.51991 0.026676 -0.25567 -0.32363 0.13236 0.54006 0.093419 0.12268 -0.62967 0.00074921 -0.53441 0.25609 0.39963 0.80527 -0.41176 0.18955 0.024526 -0.20222 0.33781 0.007872 -0.64424 -0.5309 0.027875 0.088964 0.29687 -0.038186 0.77967 -0.069213 -0.58387 1.1816 0.60791 -0.4021 -0.32223 -0.071283 -0.022764 -0.46393 0.99797 -0.15308 0.4712 0.73921 -0.12487 -0.38275 -0.39598 0.12852 -0.4951 0.19752 -0.25436 0.16616 -0.18135 0.16374 -0.16194 -0.32013 -0.33111 0.53662 0.53301 -0.32166 -0.64362 1.0576 -0.18019 -0.40932 -0.16084 -1.0094 0.22972 0.5431 0.05891 1.7502 -0.19753 -0.05401 0.016083 -0.55523 -0.20231 -0.32613 -0.38783 0.61428 -0.11216 0.42319 -0.44729 -0.35638 -0.32698 -0.12662 -0.28858 0.08092 0.14493 0.052563 0.75007\n",
            "'s -0.0059614 0.45148 0.0045495 0.020727 0.53877 0.49453 -0.35369 -0.056286 0.057851 -0.2045 -0.3064 0.37904 0.26388 0.36036 0.68715 0.11629 -0.57005 0.084364 -0.67184 0.21706 0.60084 3.1461 0.21839 0.1883 -0.011606 0.7028 -0.054734 -0.57602 -0.50561 0.13275 -0.37349 -0.22315 0.18934 -0.38835 -0.44616 0.25078 -0.24067 -0.27303 -0.63587 0.071991 -0.30948 -0.65413 -0.075834 0.40565 -0.28402 0.44169 -0.22619 0.10845 -0.015489 -0.30989 -0.02178 -0.11869 0.17083 -0.099277 0.30043 0.18093 -0.25603 0.084124 0.052387 0.61726 0.214 -0.22772 -0.87764 -0.14982 -0.23043 -0.00035754 -0.32101 0.027185 0.21575 0.36466 0.6246 -0.12043 0.05141 0.91292 0.18761 0.93069 -0.35316 -0.17359 -0.29801 -0.47032 -0.30814 -0.030579 0.0010451 -0.4248 0.025234 0.10384 -0.48836 -0.052485 0.40014 -0.7495 -0.13414 0.4474 -0.29949 0.09747 -0.55787 0.20784 0.07845 -0.018413 0.51101 -0.081727 -0.12922 0.26656 0.019702 0.32468 -0.0065269 -0.61234 0.16835 1.4625 -0.69953 -0.4955 -0.14897 -0.31528 -0.84419 0.015958 -0.32832 0.17431 -0.17892 0.19392 -0.18366 0.025364 0.26547 0.44295 0.38296 -0.087653 0.72418 -0.48724 0.014929 -0.2459 -0.026036 0.13949 0.12917 -0.29052 0.24795 -0.74504 -0.12584 0.66134 0.14745 0.020824 -0.17371 -0.10235 -0.38495 0.85243 0.34448 0.46187 1.2913 0.085984 -0.13995 -0.77678 0.33022 0.4462 0.4717 0.11727 0.61142 0.39587 0.34127 -0.084882 -0.18584 0.076045 -0.33183 0.052621 0.66403 -0.19629 -0.066911 0.20812 0.29366 0.3302 -0.21909 -0.27987 0.11026 0.47563 0.49742 0.071567 0.19419 -0.13688 -0.069569 0.49701 -0.84327 -0.44757 0.50253 0.60596 0.86543 0.47559 -0.0093512 0.00081187 -0.59952 -0.12317 -0.30361 0.17132 0.82369 0.2679 0.33455 0.35521 -0.56247 0.37289 0.51554 -0.0036403 0.076358 0.39947 0.29621 0.053627\n"
          ]
        }
      ]
    },
    {
      "cell_type": "markdown",
      "source": [
        "The text file is formatted with space as a seperator and each line serving as a record, the first column has the words and the subsequent columns have the embedding.\n",
        "\n",
        "We can create an embedding dictionary from this text file to make using the embeddings easier."
      ],
      "metadata": {
        "id": "AiM3MVmB5Jz-"
      }
    },
    {
      "cell_type": "code",
      "source": [
        "embeddings_dict = dict()\n",
        "glove_file = open('/content/glove.6B.200d.txt')\n",
        "for line in glove_file:\n",
        "  records = line.split()\n",
        "  word = records[0]\n",
        "  vector = np.asarray(records[1:], dtype='float32')\n",
        "  embeddings_dict[word] = vector\n",
        "glove_file.close()"
      ],
      "metadata": {
        "id": "JV1GFw9U5GJz"
      },
      "execution_count": 19,
      "outputs": []
    },
    {
      "cell_type": "markdown",
      "source": [
        "Next we want to create our embedding/feature matrix. This is a $|V|\\times d$ matrix containing the embedding for each word in our corpus."
      ],
      "metadata": {
        "id": "ZMadJw1m7MeS"
      }
    },
    {
      "cell_type": "code",
      "source": [
        "len(tokenizer.word_index) # number of unique words in our corpus"
      ],
      "metadata": {
        "colab": {
          "base_uri": "https://localhost:8080/"
        },
        "id": "ShcaWdyP60Ce",
        "outputId": "6ba15f22-d7bb-4ce3-aab0-61f5735877eb"
      },
      "execution_count": 20,
      "outputs": [
        {
          "output_type": "execute_result",
          "data": {
            "text/plain": [
              "99267"
            ]
          },
          "metadata": {},
          "execution_count": 20
        }
      ]
    },
    {
      "cell_type": "markdown",
      "source": [
        "So in our dataset we have 99,267 words in our vocabulary, we'll add 1 to this number to account for any out of vocabulary words later on (they'll have embedding of 0) and use that number as our $|V|$."
      ],
      "metadata": {
        "id": "vYzCWqXh8l0f"
      }
    },
    {
      "cell_type": "code",
      "source": [
        "vocab_len = len(tokenizer.word_index) + 1\n",
        "\n",
        "embedding_matrix = np.zeros((vocab_len, 200))\n",
        "for word, index in tokenizer.word_index.items():\n",
        "  vector = embeddings_dict.get(word)\n",
        "  if vector is not None:\n",
        "    embedding_matrix[index] = vector\n",
        "\n",
        "embedding_matrix.shape"
      ],
      "metadata": {
        "colab": {
          "base_uri": "https://localhost:8080/"
        },
        "id": "VjeeOTUD8JlP",
        "outputId": "1979e99b-4db2-46d2-b0fd-1d253e2af92b"
      },
      "execution_count": 21,
      "outputs": [
        {
          "output_type": "execute_result",
          "data": {
            "text/plain": [
              "(99268, 200)"
            ]
          },
          "metadata": {},
          "execution_count": 21
        }
      ]
    },
    {
      "cell_type": "markdown",
      "source": [
        "## Training"
      ],
      "metadata": {
        "id": "8g_v-xi8-ws2"
      }
    },
    {
      "cell_type": "markdown",
      "source": [
        "For sentiment analysis (a text classification task), there are multiple models that are likely to do well.\n",
        "\n",
        "We'll be training 3 models and comparing between their performance:\n",
        "\n",
        "1. Forward Feed Neural Network (FFNN)/ Artificial Neural network (ANN)\n",
        "2. Convulutional Neural Network (CNN) as outlined in [this paper](https://journal.ugm.ac.id/ijitee/article/viewFile/36642/21340)\n",
        "3. Bidirectional Long Short Term Memory (LSTM) Neural Network as outlined in [this paper](https://doi.org/10.1016/j.procs.2022.12.400)\n",
        "\n",
        "The FFN/ANN is only included as a kind of baseline model for comparison's sake."
      ],
      "metadata": {
        "id": "ykPI5BiADMsY"
      }
    },
    {
      "cell_type": "markdown",
      "source": [
        "### Forward Feed Neural Network (FFNN)/ Artificial Neural network (ANN)"
      ],
      "metadata": {
        "id": "bB6fzAMoKRhS"
      }
    },
    {
      "cell_type": "markdown",
      "source": [
        "The network architecture will consist of:\n",
        "- An embedding layer\n",
        "- A dense layer\n",
        "- A flatten layer\n",
        "- An output layer.\n",
        "\n",
        "The embedding layer will use the embedding matix we built previously. The dense layer will consisit of 128 (arbitrary) units and will use a ReLU activation function. The final output layer will use Sigmoid activation to map the results to a binary value."
      ],
      "metadata": {
        "id": "HloK_U4nLUn2"
      }
    },
    {
      "source": [
        "ann_model = Sequential()\n",
        "embedding_layer = Embedding(vocab_len, 200, weights=[embedding_matrix], input_length=200, trainable=False)\n",
        "ann_model.add(embedding_layer)\n",
        "\n",
        "ann_model.add(Dense(128, activation='relu'))\n",
        "ann_model.add(Flatten())\n",
        "ann_model.add(Dense(1, activation='sigmoid'))\n",
        "\n",
        "ann_model.compile(optimizer='adam', loss='binary_crossentropy', metrics=['acc'])\n",
        "print(ann_model.summary())"
      ],
      "cell_type": "code",
      "metadata": {
        "colab": {
          "base_uri": "https://localhost:8080/"
        },
        "id": "Uwj4P0OaTQWk",
        "outputId": "969bbd64-948c-4fed-9ec6-db97a51a2f73"
      },
      "execution_count": 22,
      "outputs": [
        {
          "output_type": "stream",
          "name": "stdout",
          "text": [
            "Model: \"sequential\"\n",
            "_________________________________________________________________\n",
            " Layer (type)                Output Shape              Param #   \n",
            "=================================================================\n",
            " embedding (Embedding)       (None, 200, 200)          19853600  \n",
            "                                                                 \n",
            " dense (Dense)               (None, 200, 128)          25728     \n",
            "                                                                 \n",
            " flatten (Flatten)           (None, 25600)             0         \n",
            "                                                                 \n",
            " dense_1 (Dense)             (None, 1)                 25601     \n",
            "                                                                 \n",
            "=================================================================\n",
            "Total params: 19904929 (75.93 MB)\n",
            "Trainable params: 51329 (200.50 KB)\n",
            "Non-trainable params: 19853600 (75.74 MB)\n",
            "_________________________________________________________________\n",
            "None\n"
          ]
        }
      ]
    },
    {
      "cell_type": "code",
      "source": [
        "ann_model_history = ann_model.fit(X_train, y_train, batch_size=128, epochs=6, verbose=1, validation_split=0.2)"
      ],
      "metadata": {
        "colab": {
          "base_uri": "https://localhost:8080/"
        },
        "id": "1RVqqzExUZK4",
        "outputId": "9d947830-df22-419e-877e-6a37cef3bb3b"
      },
      "execution_count": 23,
      "outputs": [
        {
          "output_type": "stream",
          "name": "stdout",
          "text": [
            "Epoch 1/6\n",
            "250/250 [==============================] - 5s 7ms/step - loss: 0.4890 - acc: 0.7603 - val_loss: 0.3899 - val_acc: 0.8336\n",
            "Epoch 2/6\n",
            "250/250 [==============================] - 1s 5ms/step - loss: 0.3319 - acc: 0.8605 - val_loss: 0.3523 - val_acc: 0.8531\n",
            "Epoch 3/6\n",
            "250/250 [==============================] - 1s 5ms/step - loss: 0.2681 - acc: 0.8920 - val_loss: 0.3704 - val_acc: 0.8489\n",
            "Epoch 4/6\n",
            "250/250 [==============================] - 1s 5ms/step - loss: 0.2109 - acc: 0.9215 - val_loss: 0.4169 - val_acc: 0.8295\n",
            "Epoch 5/6\n",
            "250/250 [==============================] - 1s 4ms/step - loss: 0.1732 - acc: 0.9395 - val_loss: 0.3917 - val_acc: 0.8450\n",
            "Epoch 6/6\n",
            "250/250 [==============================] - 1s 4ms/step - loss: 0.1360 - acc: 0.9570 - val_loss: 0.3985 - val_acc: 0.8521\n"
          ]
        }
      ]
    },
    {
      "cell_type": "code",
      "source": [
        "y_pred_prob = ann_model.predict(X_test)"
      ],
      "metadata": {
        "colab": {
          "base_uri": "https://localhost:8080/"
        },
        "id": "0xVqwuwIO75h",
        "outputId": "19a376d8-5dcb-4112-821a-01702c04472a"
      },
      "execution_count": 24,
      "outputs": [
        {
          "output_type": "stream",
          "name": "stdout",
          "text": [
            "313/313 [==============================] - 1s 2ms/step\n"
          ]
        }
      ]
    },
    {
      "cell_type": "code",
      "source": [
        "y_pred = (y_pred_prob > 0.5).astype(int)\n",
        "print(classification_report(y_test, y_pred))"
      ],
      "metadata": {
        "colab": {
          "base_uri": "https://localhost:8080/"
        },
        "id": "wcthKolvaQL4",
        "outputId": "e5a026e2-ab06-41ef-8823-043f1b012610"
      },
      "execution_count": 25,
      "outputs": [
        {
          "output_type": "stream",
          "name": "stdout",
          "text": [
            "              precision    recall  f1-score   support\n",
            "\n",
            "           0       0.84      0.84      0.84      4961\n",
            "           1       0.84      0.84      0.84      5039\n",
            "\n",
            "    accuracy                           0.84     10000\n",
            "   macro avg       0.84      0.84      0.84     10000\n",
            "weighted avg       0.84      0.84      0.84     10000\n",
            "\n"
          ]
        }
      ]
    },
    {
      "cell_type": "code",
      "source": [
        "plt.plot(ann_model_history.history['acc'])\n",
        "plt.plot(ann_model_history.history['val_acc'])\n",
        "plt.title('model accuracy')\n",
        "plt.ylabel('accuracy')\n",
        "plt.xlabel('epoch')\n",
        "plt.legend(['train','test'], loc='upper left')\n",
        "plt.show()\n",
        "plt.plot(ann_model_history.history['loss'])\n",
        "plt.plot(ann_model_history.history['val_loss'])\n",
        "plt.title('model loss')\n",
        "plt.ylabel('loss')\n",
        "plt.xlabel('epoch')\n",
        "plt.legend(['train','test'], loc='upper left')\n",
        "plt.show()"
      ],
      "metadata": {
        "colab": {
          "base_uri": "https://localhost:8080/",
          "height": 927
        },
        "id": "z8hrT-11YKk0",
        "outputId": "34380e40-5b00-4bcc-a2a0-27455b1503a7"
      },
      "execution_count": 26,
      "outputs": [
        {
          "output_type": "display_data",
          "data": {
            "text/plain": [
              "<Figure size 640x480 with 1 Axes>"
            ],
            "image/png": "[encoded data removed]"
          },
          "metadata": {}
        },
        {
          "output_type": "display_data",
          "data": {
            "text/plain": [
              "<Figure size 640x480 with 1 Axes>"
            ],
            "image/png": "[encoded data removed]"
          },
          "metadata": {}
        }
      ]
    },
    {
      "cell_type": "markdown",
      "source": [
        "### Convolutional Neural Network (CNN)"
      ],
      "metadata": {
        "id": "35L4F19MZQZl"
      }
    },
    {
      "cell_type": "markdown",
      "source": [
        "The network architecture used will be as described in the reference paper as \"Setting III\" with an adjustment made to the embedding dimensions.\n",
        "\n",
        "The architecture will consist of:\n",
        "- An embedding layer\n",
        "- Three convolutional layers with filter sizes 2, 3, and 4, each having 100 filters\n",
        "- Max pooling layers after each convolutional layer\n",
        "- Dropout regularization with a rate of 0.5 after each convolutional layer\n",
        "- L2 regularization with a regularization strength of 0.5\n",
        "- Dense layers for classification\n"
      ],
      "metadata": {
        "id": "iksddbuzbemv"
      }
    },
    {
      "cell_type": "code",
      "source": [
        "# parameters\n",
        "filter_sizes = [2, 3, 4]\n",
        "num_filters = 100\n",
        "dropout_rate = 0.5\n",
        "l2_regularization = 0.5"
      ],
      "metadata": {
        "id": "9SFgmO0OfDqb"
      },
      "execution_count": 27,
      "outputs": []
    },
    {
      "cell_type": "code",
      "source": [
        "cnn_model = Sequential()\n",
        "embedding_layer = Embedding(vocab_len, 200, weights=[embedding_matrix], input_length=200, trainable=False)\n",
        "cnn_model.add(embedding_layer)\n",
        "\n",
        "for filter_size in filter_sizes:\n",
        "    cnn_model.add(Conv1D(filters=num_filters, kernel_size=filter_size, activation='relu'))\n",
        "    cnn_model.add(MaxPooling1D())\n",
        "    cnn_model.add(Dropout(rate=dropout_rate))\n",
        "\n",
        "cnn_model.add(GlobalMaxPooling1D())\n",
        "cnn_model.add(Dense(128, activation='relu', kernel_regularizer=l2(l2_regularization)))\n",
        "cnn_model.add(Dense(1, activation='sigmoid'))\n",
        "\n",
        "cnn_model.compile(optimizer='adam', loss='binary_crossentropy', metrics=['accuracy'])\n",
        "print(cnn_model.summary())"
      ],
      "metadata": {
        "colab": {
          "base_uri": "https://localhost:8080/"
        },
        "id": "kgXMhveqYI4S",
        "outputId": "29c8e0f4-f698-4a12-82e6-b8d9ac36105b"
      },
      "execution_count": 28,
      "outputs": [
        {
          "output_type": "stream",
          "name": "stdout",
          "text": [
            "Model: \"sequential_1\"\n",
            "_________________________________________________________________\n",
            " Layer (type)                Output Shape              Param #   \n",
            "=================================================================\n",
            " embedding_1 (Embedding)     (None, 200, 200)          19853600  \n",
            "                                                                 \n",
            " conv1d (Conv1D)             (None, 199, 100)          40100     \n",
            "                                                                 \n",
            " max_pooling1d (MaxPooling1  (None, 99, 100)           0         \n",
            " D)                                                              \n",
            "                                                                 \n",
            " dropout (Dropout)           (None, 99, 100)           0         \n",
            "                                                                 \n",
            " conv1d_1 (Conv1D)           (None, 97, 100)           30100     \n",
            "                                                                 \n",
            " max_pooling1d_1 (MaxPoolin  (None, 48, 100)           0         \n",
            " g1D)                                                            \n",
            "                                                                 \n",
            " dropout_1 (Dropout)         (None, 48, 100)           0         \n",
            "                                                                 \n",
            " conv1d_2 (Conv1D)           (None, 45, 100)           40100     \n",
            "                                                                 \n",
            " max_pooling1d_2 (MaxPoolin  (None, 22, 100)           0         \n",
            " g1D)                                                            \n",
            "                                                                 \n",
            " dropout_2 (Dropout)         (None, 22, 100)           0         \n",
            "                                                                 \n",
            " global_max_pooling1d (Glob  (None, 100)               0         \n",
            " alMaxPooling1D)                                                 \n",
            "                                                                 \n",
            " dense_2 (Dense)             (None, 128)               12928     \n",
            "                                                                 \n",
            " dense_3 (Dense)             (None, 1)                 129       \n",
            "                                                                 \n",
            "=================================================================\n",
            "Total params: 19976957 (76.21 MB)\n",
            "Trainable params: 123357 (481.86 KB)\n",
            "Non-trainable params: 19853600 (75.74 MB)\n",
            "_________________________________________________________________\n",
            "None\n"
          ]
        }
      ]
    },
    {
      "cell_type": "markdown",
      "source": [
        "\n",
        "Durning training the researchers used a batch size of 50.\n",
        "\n",
        "Early stopping based on validation loss will be used to determine the optimal number of epochs."
      ],
      "metadata": {
        "id": "CSpZiHbrlKbA"
      }
    },
    {
      "cell_type": "code",
      "source": [
        "early_stopping = EarlyStopping(monitor='val_loss', patience=3, restore_best_weights=True)"
      ],
      "metadata": {
        "id": "x8iGzq_QlJ-r"
      },
      "execution_count": 29,
      "outputs": []
    },
    {
      "cell_type": "code",
      "source": [
        "cnn_model_history = cnn_model.fit(X_train, y_train,\n",
        "                                  batch_size=50,\n",
        "                                  epochs=15,\n",
        "                                  verbose=1,\n",
        "                                  validation_split=0.2,\n",
        "                                  callbacks=[early_stopping])"
      ],
      "metadata": {
        "colab": {
          "base_uri": "https://localhost:8080/"
        },
        "id": "oJWTPcYphCbk",
        "outputId": "abafe500-9cf4-42c0-f33b-fe865caaf397"
      },
      "execution_count": 30,
      "outputs": [
        {
          "output_type": "stream",
          "name": "stdout",
          "text": [
            "Epoch 1/15\n",
            "640/640 [==============================] - 9s 7ms/step - loss: 4.7383 - accuracy: 0.7411 - val_loss: 0.5065 - val_accuracy: 0.8359\n",
            "Epoch 2/15\n",
            "640/640 [==============================] - 4s 7ms/step - loss: 0.3954 - accuracy: 0.8354 - val_loss: 0.4234 - val_accuracy: 0.8560\n",
            "Epoch 3/15\n",
            "640/640 [==============================] - 5s 7ms/step - loss: 0.3708 - accuracy: 0.8469 - val_loss: 0.4009 - val_accuracy: 0.8601\n",
            "Epoch 4/15\n",
            "640/640 [==============================] - 4s 6ms/step - loss: 0.3488 - accuracy: 0.8580 - val_loss: 0.3850 - val_accuracy: 0.8660\n",
            "Epoch 5/15\n",
            "640/640 [==============================] - 3s 5ms/step - loss: 0.3361 - accuracy: 0.8630 - val_loss: 0.3878 - val_accuracy: 0.8616\n",
            "Epoch 6/15\n",
            "640/640 [==============================] - 3s 5ms/step - loss: 0.3262 - accuracy: 0.8713 - val_loss: 0.3735 - val_accuracy: 0.8601\n",
            "Epoch 7/15\n",
            "640/640 [==============================] - 3s 5ms/step - loss: 0.3144 - accuracy: 0.8755 - val_loss: 0.3693 - val_accuracy: 0.8546\n",
            "Epoch 8/15\n",
            "640/640 [==============================] - 4s 7ms/step - loss: 0.3060 - accuracy: 0.8785 - val_loss: 0.3586 - val_accuracy: 0.8583\n",
            "Epoch 9/15\n",
            "640/640 [==============================] - 4s 7ms/step - loss: 0.2994 - accuracy: 0.8815 - val_loss: 0.3760 - val_accuracy: 0.8602\n",
            "Epoch 10/15\n",
            "640/640 [==============================] - 5s 7ms/step - loss: 0.2940 - accuracy: 0.8852 - val_loss: 0.3593 - val_accuracy: 0.8674\n",
            "Epoch 11/15\n",
            "640/640 [==============================] - 4s 5ms/step - loss: 0.2832 - accuracy: 0.8906 - val_loss: 0.3606 - val_accuracy: 0.8572\n"
          ]
        }
      ]
    },
    {
      "cell_type": "code",
      "source": [
        "y_pred_prob = cnn_model.predict(X_test)"
      ],
      "metadata": {
        "colab": {
          "base_uri": "https://localhost:8080/"
        },
        "id": "-VCYyD-ggcAF",
        "outputId": "9cf50254-f399-4997-c5c7-69f8b65e6dc4"
      },
      "execution_count": 31,
      "outputs": [
        {
          "output_type": "stream",
          "name": "stdout",
          "text": [
            "313/313 [==============================] - 1s 2ms/step\n"
          ]
        }
      ]
    },
    {
      "cell_type": "code",
      "source": [
        "y_pred = (y_pred_prob > 0.5).astype(int)\n",
        "print(classification_report(y_test, y_pred))"
      ],
      "metadata": {
        "colab": {
          "base_uri": "https://localhost:8080/"
        },
        "id": "bGTWMpE0qfR-",
        "outputId": "fa5d8a6a-b6ce-4df8-cfa7-7cbc5e54ecfb"
      },
      "execution_count": 32,
      "outputs": [
        {
          "output_type": "stream",
          "name": "stdout",
          "text": [
            "              precision    recall  f1-score   support\n",
            "\n",
            "           0       0.91      0.80      0.85      4961\n",
            "           1       0.82      0.92      0.87      5039\n",
            "\n",
            "    accuracy                           0.86     10000\n",
            "   macro avg       0.87      0.86      0.86     10000\n",
            "weighted avg       0.87      0.86      0.86     10000\n",
            "\n"
          ]
        }
      ]
    },
    {
      "cell_type": "code",
      "source": [
        "plt.plot(cnn_model_history.history['accuracy'])\n",
        "plt.plot(cnn_model_history.history['val_accuracy'])\n",
        "plt.title('model accuracy')\n",
        "plt.ylabel('accuracy')\n",
        "plt.xlabel('epoch')\n",
        "plt.legend(['train','test'], loc='upper left')\n",
        "plt.show()\n",
        "plt.plot(cnn_model_history.history['loss'])\n",
        "plt.plot(cnn_model_history.history['val_loss'])\n",
        "plt.title('model loss')\n",
        "plt.ylabel('loss')\n",
        "plt.xlabel('epoch')\n",
        "plt.legend(['train','test'], loc='upper left')\n",
        "plt.show()"
      ],
      "metadata": {
        "colab": {
          "base_uri": "https://localhost:8080/",
          "height": 927
        },
        "id": "kXy48Pqnqj1X",
        "outputId": "ef2c3e85-ce30-4069-d35b-7f80ec29f540"
      },
      "execution_count": 33,
      "outputs": [
        {
          "output_type": "display_data",
          "data": {
            "text/plain": [
              "<Figure size 640x480 with 1 Axes>"
            ],
            "image/png": "[encoded data removed]"
          },
          "metadata": {}
        },
        {
          "output_type": "display_data",
          "data": {
            "text/plain": [
              "<Figure size 640x480 with 1 Axes>"
            ],
            "image/png": "[encoded data removed]"
          },
          "metadata": {}
        }
      ]
    },
    {
      "cell_type": "markdown",
      "source": [
        "### Bidirectional Long Short Term Memory (LSTM) Neural Network"
      ],
      "metadata": {
        "id": "6t2yEDM2rfrw"
      }
    },
    {
      "cell_type": "markdown",
      "source": [
        "The network architecture used will be as described in the reference paper.\n",
        "\n",
        "The architecture will consit of:\n",
        "- An embedding layer\n",
        "- Two Bidirectional LSTM layers with 128 units each\n",
        "- Three Dense layers with ReLU activation function, each followed by a Dropout layer with a dropout rate of 0.5\n",
        "- An output Dense layer with a sigmoid activation function\n"
      ],
      "metadata": {
        "id": "-wq-MmkHv-qT"
      }
    },
    {
      "cell_type": "code",
      "source": [
        "bi_lstm_model = Sequential()\n",
        "\n",
        "embedding_layer = Embedding(vocab_len, 200, weights=[embedding_matrix], input_length=200, trainable=False)\n",
        "bi_lstm_model.add(embedding_layer)\n",
        "\n",
        "bi_lstm_model.add(Bidirectional(LSTM(128, return_sequences=True)))\n",
        "bi_lstm_model.add(Bidirectional(LSTM(128)))\n",
        "\n",
        "bi_lstm_model.add(Dense(64, activation='relu'))\n",
        "bi_lstm_model.add(Dropout(0.5))\n",
        "bi_lstm_model.add(Dense(64, activation='relu'))\n",
        "bi_lstm_model.add(Dropout(0.5))\n",
        "bi_lstm_model.add(Dense(16, activation='relu'))\n",
        "bi_lstm_model.add(Dropout(0.5))\n",
        "\n",
        "bi_lstm_model.add(Dense(1, activation='sigmoid'))\n",
        "\n",
        "\n",
        "bi_lstm_model.compile(optimizer='adam', loss='binary_crossentropy', metrics=['accuracy'])\n",
        "print(bi_lstm_model.summary())"
      ],
      "metadata": {
        "colab": {
          "base_uri": "https://localhost:8080/"
        },
        "id": "4dms8pgpq0RU",
        "outputId": "631c5ae6-0ba6-4409-deb2-c42290ac2bc4"
      },
      "execution_count": 34,
      "outputs": [
        {
          "output_type": "stream",
          "name": "stdout",
          "text": [
            "Model: \"sequential_2\"\n",
            "_________________________________________________________________\n",
            " Layer (type)                Output Shape              Param #   \n",
            "=================================================================\n",
            " embedding_2 (Embedding)     (None, 200, 200)          19853600  \n",
            "                                                                 \n",
            " bidirectional (Bidirection  (None, 200, 256)          336896    \n",
            " al)                                                             \n",
            "                                                                 \n",
            " bidirectional_1 (Bidirecti  (None, 256)               394240    \n",
            " onal)                                                           \n",
            "                                                                 \n",
            " dense_4 (Dense)             (None, 64)                16448     \n",
            "                                                                 \n",
            " dropout_3 (Dropout)         (None, 64)                0         \n",
            "                                                                 \n",
            " dense_5 (Dense)             (None, 64)                4160      \n",
            "                                                                 \n",
            " dropout_4 (Dropout)         (None, 64)                0         \n",
            "                                                                 \n",
            " dense_6 (Dense)             (None, 16)                1040      \n",
            "                                                                 \n",
            " dropout_5 (Dropout)         (None, 16)                0         \n",
            "                                                                 \n",
            " dense_7 (Dense)             (None, 1)                 17        \n",
            "                                                                 \n",
            "=================================================================\n",
            "Total params: 20606401 (78.61 MB)\n",
            "Trainable params: 752801 (2.87 MB)\n",
            "Non-trainable params: 19853600 (75.74 MB)\n",
            "_________________________________________________________________\n",
            "None\n"
          ]
        }
      ]
    },
    {
      "cell_type": "markdown",
      "source": [
        "During training the researchers used a batch size of 128, which will be adjusted to a batch size of 50 due to our relatively smaller dataset.\n",
        "\n",
        "Early stopping based on validation loss will be used to determine the optimal number of epochs."
      ],
      "metadata": {
        "id": "eenpJsqFx8XT"
      }
    },
    {
      "cell_type": "code",
      "source": [
        "bi_lstm_model_history = bi_lstm_model.fit(X_train, y_train,\n",
        "                                  batch_size=50,\n",
        "                                  epochs=15,\n",
        "                                  verbose=1,\n",
        "                                  validation_split=0.2,\n",
        "                                  callbacks=[early_stopping])"
      ],
      "metadata": {
        "colab": {
          "base_uri": "https://localhost:8080/"
        },
        "id": "x760fBWHxhMk",
        "outputId": "fdf4c51d-81db-488c-e3e9-b915541f9543"
      },
      "execution_count": 35,
      "outputs": [
        {
          "output_type": "stream",
          "name": "stdout",
          "text": [
            "Epoch 1/15\n",
            "640/640 [==============================] - 39s 49ms/step - loss: 0.6258 - accuracy: 0.6391 - val_loss: 0.6594 - val_accuracy: 0.7536\n",
            "Epoch 2/15\n",
            "640/640 [==============================] - 33s 52ms/step - loss: 0.6094 - accuracy: 0.6814 - val_loss: 0.5830 - val_accuracy: 0.6770\n",
            "Epoch 3/15\n",
            "640/640 [==============================] - 28s 43ms/step - loss: 0.4634 - accuracy: 0.8049 - val_loss: 0.3791 - val_accuracy: 0.8459\n",
            "Epoch 4/15\n",
            "640/640 [==============================] - 27s 42ms/step - loss: 0.4000 - accuracy: 0.8411 - val_loss: 0.3235 - val_accuracy: 0.8639\n",
            "Epoch 5/15\n",
            "640/640 [==============================] - 27s 42ms/step - loss: 0.3635 - accuracy: 0.8595 - val_loss: 0.3130 - val_accuracy: 0.8710\n",
            "Epoch 6/15\n",
            "640/640 [==============================] - 26s 41ms/step - loss: 0.3570 - accuracy: 0.8605 - val_loss: 0.2942 - val_accuracy: 0.8779\n",
            "Epoch 7/15\n",
            "640/640 [==============================] - 27s 42ms/step - loss: 0.3205 - accuracy: 0.8765 - val_loss: 0.2949 - val_accuracy: 0.8799\n",
            "Epoch 8/15\n",
            "640/640 [==============================] - 27s 42ms/step - loss: 0.3034 - accuracy: 0.8849 - val_loss: 0.2760 - val_accuracy: 0.8855\n",
            "Epoch 9/15\n",
            "640/640 [==============================] - 27s 42ms/step - loss: 0.2756 - accuracy: 0.8968 - val_loss: 0.2792 - val_accuracy: 0.8849\n",
            "Epoch 10/15\n",
            "640/640 [==============================] - 26s 41ms/step - loss: 0.2513 - accuracy: 0.9072 - val_loss: 0.2801 - val_accuracy: 0.8899\n",
            "Epoch 11/15\n",
            "640/640 [==============================] - 27s 41ms/step - loss: 0.2280 - accuracy: 0.9158 - val_loss: 0.2797 - val_accuracy: 0.8896\n"
          ]
        }
      ]
    },
    {
      "cell_type": "code",
      "source": [
        "y_pred_prob = bi_lstm_model.predict(X_test)"
      ],
      "metadata": {
        "colab": {
          "base_uri": "https://localhost:8080/"
        },
        "id": "u5fMKiOE2uLA",
        "outputId": "905b4751-208e-4590-eda8-6237730b2809"
      },
      "execution_count": 36,
      "outputs": [
        {
          "output_type": "stream",
          "name": "stdout",
          "text": [
            "313/313 [==============================] - 8s 14ms/step\n"
          ]
        }
      ]
    },
    {
      "cell_type": "code",
      "source": [
        "y_pred = (y_pred_prob > 0.5).astype(int)\n",
        "print(classification_report(y_test, y_pred))"
      ],
      "metadata": {
        "colab": {
          "base_uri": "https://localhost:8080/"
        },
        "id": "El6vla8P2ylk",
        "outputId": "c88110d9-7d60-4c46-b7f9-e368cae16422"
      },
      "execution_count": 37,
      "outputs": [
        {
          "output_type": "stream",
          "name": "stdout",
          "text": [
            "              precision    recall  f1-score   support\n",
            "\n",
            "           0       0.86      0.91      0.88      4961\n",
            "           1       0.90      0.85      0.88      5039\n",
            "\n",
            "    accuracy                           0.88     10000\n",
            "   macro avg       0.88      0.88      0.88     10000\n",
            "weighted avg       0.88      0.88      0.88     10000\n",
            "\n"
          ]
        }
      ]
    },
    {
      "cell_type": "code",
      "source": [
        "plt.plot(bi_lstm_model_history.history['accuracy'])\n",
        "plt.plot(bi_lstm_model_history.history['val_accuracy'])\n",
        "plt.title('model accuracy')\n",
        "plt.ylabel('accuracy')\n",
        "plt.xlabel('epoch')\n",
        "plt.legend(['train','test'], loc='upper left')\n",
        "plt.show()\n",
        "plt.plot(bi_lstm_model_history.history['loss'])\n",
        "plt.plot(bi_lstm_model_history.history['val_loss'])\n",
        "plt.title('model loss')\n",
        "plt.ylabel('loss')\n",
        "plt.xlabel('epoch')\n",
        "plt.legend(['train','test'], loc='upper left')\n",
        "plt.show()"
      ],
      "metadata": {
        "colab": {
          "base_uri": "https://localhost:8080/",
          "height": 927
        },
        "id": "-JA3Ua7p22qV",
        "outputId": "7e68aeb9-a75f-4956-b6c6-16550c768452"
      },
      "execution_count": 38,
      "outputs": [
        {
          "output_type": "display_data",
          "data": {
            "text/plain": [
              "<Figure size 640x480 with 1 Axes>"
            ],
            "image/png": "[encoded data removed]"
          },
          "metadata": {}
        },
        {
          "output_type": "display_data",
          "data": {
            "text/plain": [
              "<Figure size 640x480 with 1 Axes>"
            ],
            "image/png": "[encoded data removed]"
          },
          "metadata": {}
        }
      ]
    },
    {
      "cell_type": "markdown",
      "source": [
        "## Conclusion"
      ],
      "metadata": {
        "id": "1M_VeoIM3ROD"
      }
    },
    {
      "cell_type": "markdown",
      "source": [
        "The clear winner in terms of performance is the Bidirectional LSTM model. However, it is a more complex and time consuming model to train, especially when considering the relatively small increase in accuracy when compared to simpler models like CNN or ANN.\n"
      ],
      "metadata": {
        "id": "QwR7EGeF5LHl"
      }
    }
  ]
}